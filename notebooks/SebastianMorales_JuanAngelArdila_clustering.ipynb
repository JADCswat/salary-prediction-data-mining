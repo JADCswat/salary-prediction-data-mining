{
  "nbformat": 4,
  "nbformat_minor": 0,
  "metadata": {
    "colab": {
      "provenance": []
    },
    "kernelspec": {
      "name": "python3",
      "display_name": "Python 3"
    },
    "language_info": {
      "name": "python"
    }
  },
  "cells": [
    {
      "cell_type": "markdown",
      "source": [
        "#**GRUPO DE TRABAJO**\n",
        "*  Sebastian Morales Duque\n",
        "*  Juan Angel Ardila Pava"
      ],
      "metadata": {
        "id": "98FAxhwHwUgg"
      }
    },
    {
      "cell_type": "markdown",
      "source": [
        "Importar librerías"
      ],
      "metadata": {
        "id": "PFn_4ZY3whfA"
      }
    },
    {
      "cell_type": "code",
      "source": [
        "import pandas as pd\n",
        "from google.colab import files\n",
        "from sklearn.feature_selection import SelectKBest\n",
        "from numpy import array\n",
        "import numpy as np\n",
        "import matplotlib.pyplot as plt\n",
        "import plotly.express as px\n",
        "import seaborn as sb\n",
        "from sklearn.cluster import KMeans\n",
        "from sklearn.metrics import pairwise_distances_argmin_min\n",
        "from sklearn import metrics\n",
        "import seaborn as sns\n",
        "from google.colab  import drive\n",
        "from sklearn.cluster import AgglomerativeClustering\n",
        "from sklearn.cluster import DBSCAN\n",
        "from sklearn.cluster import MeanShift\n",
        "from sklearn.cluster import Birch\n",
        "from sklearn.cluster import AffinityPropagation\n",
        "from sklearn.cluster import MiniBatchKMeans\n",
        "import numpy as np\n",
        "from matplotlib import cm\n",
        "from sklearn.metrics import silhouette_samples\n",
        "import seaborn\n",
        "from scipy.spatial.distance import pdist, squareform\n",
        "from scipy.cluster.hierarchy import linkage\n",
        "from scipy.cluster.hierarchy import dendrogram\n",
        "from sklearn.metrics import silhouette_score\n",
        "from sklearn.model_selection import ParameterGrid\n",
        "from sklearn.cluster import KMeans"
      ],
      "metadata": {
        "id": "5lJWi04Wwnjc"
      },
      "execution_count": null,
      "outputs": []
    },
    {
      "cell_type": "code",
      "execution_count": null,
      "metadata": {
        "colab": {
          "base_uri": "https://localhost:8080/",
          "height": 77
        },
        "id": "AnU1Fz5CviAS",
        "outputId": "c86f32dd-e421-4a14-ed64-afed815432b1"
      },
      "outputs": [
        {
          "output_type": "display_data",
          "data": {
            "text/plain": [
              "<IPython.core.display.HTML object>"
            ],
            "text/html": [
              "\n",
              "     <input type=\"file\" id=\"files-49d17529-67bb-470a-bbbe-f1b8d914918d\" name=\"files[]\" multiple disabled\n",
              "        style=\"border:none\" />\n",
              "     <output id=\"result-49d17529-67bb-470a-bbbe-f1b8d914918d\">\n",
              "      Upload widget is only available when the cell has been executed in the\n",
              "      current browser session. Please rerun this cell to enable.\n",
              "      </output>\n",
              "      <script>// Copyright 2017 Google LLC\n",
              "//\n",
              "// Licensed under the Apache License, Version 2.0 (the \"License\");\n",
              "// you may not use this file except in compliance with the License.\n",
              "// You may obtain a copy of the License at\n",
              "//\n",
              "//      http://www.apache.org/licenses/LICENSE-2.0\n",
              "//\n",
              "// Unless required by applicable law or agreed to in writing, software\n",
              "// distributed under the License is distributed on an \"AS IS\" BASIS,\n",
              "// WITHOUT WARRANTIES OR CONDITIONS OF ANY KIND, either express or implied.\n",
              "// See the License for the specific language governing permissions and\n",
              "// limitations under the License.\n",
              "\n",
              "/**\n",
              " * @fileoverview Helpers for google.colab Python module.\n",
              " */\n",
              "(function(scope) {\n",
              "function span(text, styleAttributes = {}) {\n",
              "  const element = document.createElement('span');\n",
              "  element.textContent = text;\n",
              "  for (const key of Object.keys(styleAttributes)) {\n",
              "    element.style[key] = styleAttributes[key];\n",
              "  }\n",
              "  return element;\n",
              "}\n",
              "\n",
              "// Max number of bytes which will be uploaded at a time.\n",
              "const MAX_PAYLOAD_SIZE = 100 * 1024;\n",
              "\n",
              "function _uploadFiles(inputId, outputId) {\n",
              "  const steps = uploadFilesStep(inputId, outputId);\n",
              "  const outputElement = document.getElementById(outputId);\n",
              "  // Cache steps on the outputElement to make it available for the next call\n",
              "  // to uploadFilesContinue from Python.\n",
              "  outputElement.steps = steps;\n",
              "\n",
              "  return _uploadFilesContinue(outputId);\n",
              "}\n",
              "\n",
              "// This is roughly an async generator (not supported in the browser yet),\n",
              "// where there are multiple asynchronous steps and the Python side is going\n",
              "// to poll for completion of each step.\n",
              "// This uses a Promise to block the python side on completion of each step,\n",
              "// then passes the result of the previous step as the input to the next step.\n",
              "function _uploadFilesContinue(outputId) {\n",
              "  const outputElement = document.getElementById(outputId);\n",
              "  const steps = outputElement.steps;\n",
              "\n",
              "  const next = steps.next(outputElement.lastPromiseValue);\n",
              "  return Promise.resolve(next.value.promise).then((value) => {\n",
              "    // Cache the last promise value to make it available to the next\n",
              "    // step of the generator.\n",
              "    outputElement.lastPromiseValue = value;\n",
              "    return next.value.response;\n",
              "  });\n",
              "}\n",
              "\n",
              "/**\n",
              " * Generator function which is called between each async step of the upload\n",
              " * process.\n",
              " * @param {string} inputId Element ID of the input file picker element.\n",
              " * @param {string} outputId Element ID of the output display.\n",
              " * @return {!Iterable<!Object>} Iterable of next steps.\n",
              " */\n",
              "function* uploadFilesStep(inputId, outputId) {\n",
              "  const inputElement = document.getElementById(inputId);\n",
              "  inputElement.disabled = false;\n",
              "\n",
              "  const outputElement = document.getElementById(outputId);\n",
              "  outputElement.innerHTML = '';\n",
              "\n",
              "  const pickedPromise = new Promise((resolve) => {\n",
              "    inputElement.addEventListener('change', (e) => {\n",
              "      resolve(e.target.files);\n",
              "    });\n",
              "  });\n",
              "\n",
              "  const cancel = document.createElement('button');\n",
              "  inputElement.parentElement.appendChild(cancel);\n",
              "  cancel.textContent = 'Cancel upload';\n",
              "  const cancelPromise = new Promise((resolve) => {\n",
              "    cancel.onclick = () => {\n",
              "      resolve(null);\n",
              "    };\n",
              "  });\n",
              "\n",
              "  // Wait for the user to pick the files.\n",
              "  const files = yield {\n",
              "    promise: Promise.race([pickedPromise, cancelPromise]),\n",
              "    response: {\n",
              "      action: 'starting',\n",
              "    }\n",
              "  };\n",
              "\n",
              "  cancel.remove();\n",
              "\n",
              "  // Disable the input element since further picks are not allowed.\n",
              "  inputElement.disabled = true;\n",
              "\n",
              "  if (!files) {\n",
              "    return {\n",
              "      response: {\n",
              "        action: 'complete',\n",
              "      }\n",
              "    };\n",
              "  }\n",
              "\n",
              "  for (const file of files) {\n",
              "    const li = document.createElement('li');\n",
              "    li.append(span(file.name, {fontWeight: 'bold'}));\n",
              "    li.append(span(\n",
              "        `(${file.type || 'n/a'}) - ${file.size} bytes, ` +\n",
              "        `last modified: ${\n",
              "            file.lastModifiedDate ? file.lastModifiedDate.toLocaleDateString() :\n",
              "                                    'n/a'} - `));\n",
              "    const percent = span('0% done');\n",
              "    li.appendChild(percent);\n",
              "\n",
              "    outputElement.appendChild(li);\n",
              "\n",
              "    const fileDataPromise = new Promise((resolve) => {\n",
              "      const reader = new FileReader();\n",
              "      reader.onload = (e) => {\n",
              "        resolve(e.target.result);\n",
              "      };\n",
              "      reader.readAsArrayBuffer(file);\n",
              "    });\n",
              "    // Wait for the data to be ready.\n",
              "    let fileData = yield {\n",
              "      promise: fileDataPromise,\n",
              "      response: {\n",
              "        action: 'continue',\n",
              "      }\n",
              "    };\n",
              "\n",
              "    // Use a chunked sending to avoid message size limits. See b/62115660.\n",
              "    let position = 0;\n",
              "    do {\n",
              "      const length = Math.min(fileData.byteLength - position, MAX_PAYLOAD_SIZE);\n",
              "      const chunk = new Uint8Array(fileData, position, length);\n",
              "      position += length;\n",
              "\n",
              "      const base64 = btoa(String.fromCharCode.apply(null, chunk));\n",
              "      yield {\n",
              "        response: {\n",
              "          action: 'append',\n",
              "          file: file.name,\n",
              "          data: base64,\n",
              "        },\n",
              "      };\n",
              "\n",
              "      let percentDone = fileData.byteLength === 0 ?\n",
              "          100 :\n",
              "          Math.round((position / fileData.byteLength) * 100);\n",
              "      percent.textContent = `${percentDone}% done`;\n",
              "\n",
              "    } while (position < fileData.byteLength);\n",
              "  }\n",
              "\n",
              "  // All done.\n",
              "  yield {\n",
              "    response: {\n",
              "      action: 'complete',\n",
              "    }\n",
              "  };\n",
              "}\n",
              "\n",
              "scope.google = scope.google || {};\n",
              "scope.google.colab = scope.google.colab || {};\n",
              "scope.google.colab._files = {\n",
              "  _uploadFiles,\n",
              "  _uploadFilesContinue,\n",
              "};\n",
              "})(self);\n",
              "</script> "
            ]
          },
          "metadata": {}
        },
        {
          "output_type": "stream",
          "name": "stdout",
          "text": [
            "Saving adult_encoding.csv to adult_encoding.csv\n"
          ]
        }
      ],
      "source": [
        "# Subir el archivo CSV\n",
        "datos = files.upload()\n",
        "archivo = list(datos.keys())[0]\n",
        "# Cargar el archivo CSV en un DataFrame de Panda\n",
        "df = pd.read_csv(archivo)"
      ]
    },
    {
      "cell_type": "markdown",
      "source": [
        "Seleccionar top 5 características"
      ],
      "metadata": {
        "id": "VTmCpiOz_xHq"
      }
    },
    {
      "cell_type": "markdown",
      "source": [
        "A continuación se obtienen las 5 características más influyentes por medio del método de SelectKBest:\n",
        "características más importantes:\n",
        "1.  edad\n",
        "2.  nivel_educativo\n",
        "3.  experiencia\n",
        "4.  ganancias\n",
        "5.  horas_semanales"
      ],
      "metadata": {
        "id": "uzYKBdh4Rugu"
      }
    },
    {
      "cell_type": "code",
      "source": [
        "X = df.drop('salario', axis=1)\n",
        "y = df['salario']\n",
        "\n",
        "#este es un metodo de seleccion de caracteristicas\n",
        "#le da puntaje a cada caracteristica y borra todas las demas\n",
        "#excepto las que tienen puntaje mas alto\n",
        "\n",
        "#https://aprendeia.com/metodos-de-seleccion-de-caracteristicas-machine-learning/\n",
        "# tambien se puede elegir SelectKBest(score_func=chi2, k=5)\n",
        "# https://jdvelasq.github.io/courses/notebooks/sklearn_supervised_01_feature_selection/1-06_SelectKBest.html\n",
        "# se basa en un test de estadistica univariada,por ejemplo chi2,  Pearson-correlation\n",
        "best=SelectKBest(k=5)\n",
        "\n",
        "features = array(X.columns)\n",
        "features"
      ],
      "metadata": {
        "colab": {
          "base_uri": "https://localhost:8080/"
        },
        "id": "Y4lWkusb_1Sr",
        "outputId": "c3d940b4-952d-46dc-ecd3-1232ce46f73c"
      },
      "execution_count": null,
      "outputs": [
        {
          "output_type": "execute_result",
          "data": {
            "text/plain": [
              "array(['edad', 'tipo_empleo', 'codigo', 'nivel_educativo', 'experiencia',\n",
              "       'estado_civil', 'ocupacion', 'raza', 'genero', 'ganancias',\n",
              "       'perdidas', 'horas_semanales', 'pais'], dtype=object)"
            ]
          },
          "metadata": {},
          "execution_count": 4
        }
      ]
    },
    {
      "cell_type": "code",
      "source": [
        "X_new = best.fit_transform(X, y)\n",
        "\n",
        "filter = best.get_support()\n",
        "print (filter)\n",
        "print(features[filter])"
      ],
      "metadata": {
        "colab": {
          "base_uri": "https://localhost:8080/"
        },
        "id": "9hDSd5anAHaY",
        "outputId": "85864b1e-bec5-43ab-b6f5-5e46766eed71"
      },
      "execution_count": null,
      "outputs": [
        {
          "output_type": "stream",
          "name": "stdout",
          "text": [
            "[ True False False  True  True False False False False  True False  True\n",
            " False]\n",
            "['edad' 'nivel_educativo' 'experiencia' 'ganancias' 'horas_semanales']\n"
          ]
        }
      ]
    },
    {
      "cell_type": "markdown",
      "source": [
        "Tecnica del codo"
      ],
      "metadata": {
        "id": "aS3XxCW3zty6"
      }
    },
    {
      "cell_type": "code",
      "source": [
        "#Se seleccionan las dimensiones, 3 para poder graficar\n",
        "y = np.array(df['salario'])\n",
        "X = np.array(df[['edad', 'nivel_educativo', 'experiencia', 'ganancias', 'horas_semanales']])\n",
        "\n",
        "Nc = range(1, 20)\n",
        "#se va a aplicar la tecnica del codo\n",
        "kmeans = [KMeans(n_clusters=i) for i in Nc]\n",
        "print(\"Kmeans\")\n",
        "print(kmeans)\n",
        "score = [kmeans[i].fit(X).score(X) for i in range(len(kmeans))]\n",
        "print (\" El puntaje\")\n",
        "print (score)"
      ],
      "metadata": {
        "colab": {
          "base_uri": "https://localhost:8080/"
        },
        "id": "IAJdSjAQzA7J",
        "outputId": "cb28e157-27a1-4ada-8572-65d377a19b0e"
      },
      "execution_count": null,
      "outputs": [
        {
          "output_type": "stream",
          "name": "stdout",
          "text": [
            "Kmeans\n",
            "[KMeans(n_clusters=1), KMeans(n_clusters=2), KMeans(n_clusters=3), KMeans(n_clusters=4), KMeans(n_clusters=5), KMeans(n_clusters=6), KMeans(n_clusters=7), KMeans(), KMeans(n_clusters=9), KMeans(n_clusters=10), KMeans(n_clusters=11), KMeans(n_clusters=12), KMeans(n_clusters=13), KMeans(n_clusters=14), KMeans(n_clusters=15), KMeans(n_clusters=16), KMeans(n_clusters=17), KMeans(n_clusters=18), KMeans(n_clusters=19)]\n"
          ]
        },
        {
          "output_type": "stream",
          "name": "stderr",
          "text": [
            "/usr/local/lib/python3.10/dist-packages/sklearn/cluster/_kmeans.py:870: FutureWarning: The default value of `n_init` will change from 10 to 'auto' in 1.4. Set the value of `n_init` explicitly to suppress the warning\n",
            "  warnings.warn(\n",
            "/usr/local/lib/python3.10/dist-packages/sklearn/cluster/_kmeans.py:870: FutureWarning: The default value of `n_init` will change from 10 to 'auto' in 1.4. Set the value of `n_init` explicitly to suppress the warning\n",
            "  warnings.warn(\n",
            "/usr/local/lib/python3.10/dist-packages/sklearn/cluster/_kmeans.py:870: FutureWarning: The default value of `n_init` will change from 10 to 'auto' in 1.4. Set the value of `n_init` explicitly to suppress the warning\n",
            "  warnings.warn(\n",
            "/usr/local/lib/python3.10/dist-packages/sklearn/cluster/_kmeans.py:870: FutureWarning: The default value of `n_init` will change from 10 to 'auto' in 1.4. Set the value of `n_init` explicitly to suppress the warning\n",
            "  warnings.warn(\n",
            "/usr/local/lib/python3.10/dist-packages/sklearn/cluster/_kmeans.py:870: FutureWarning: The default value of `n_init` will change from 10 to 'auto' in 1.4. Set the value of `n_init` explicitly to suppress the warning\n",
            "  warnings.warn(\n",
            "/usr/local/lib/python3.10/dist-packages/sklearn/cluster/_kmeans.py:870: FutureWarning: The default value of `n_init` will change from 10 to 'auto' in 1.4. Set the value of `n_init` explicitly to suppress the warning\n",
            "  warnings.warn(\n",
            "/usr/local/lib/python3.10/dist-packages/sklearn/cluster/_kmeans.py:870: FutureWarning: The default value of `n_init` will change from 10 to 'auto' in 1.4. Set the value of `n_init` explicitly to suppress the warning\n",
            "  warnings.warn(\n",
            "/usr/local/lib/python3.10/dist-packages/sklearn/cluster/_kmeans.py:870: FutureWarning: The default value of `n_init` will change from 10 to 'auto' in 1.4. Set the value of `n_init` explicitly to suppress the warning\n",
            "  warnings.warn(\n",
            "/usr/local/lib/python3.10/dist-packages/sklearn/cluster/_kmeans.py:870: FutureWarning: The default value of `n_init` will change from 10 to 'auto' in 1.4. Set the value of `n_init` explicitly to suppress the warning\n",
            "  warnings.warn(\n",
            "/usr/local/lib/python3.10/dist-packages/sklearn/cluster/_kmeans.py:870: FutureWarning: The default value of `n_init` will change from 10 to 'auto' in 1.4. Set the value of `n_init` explicitly to suppress the warning\n",
            "  warnings.warn(\n",
            "/usr/local/lib/python3.10/dist-packages/sklearn/cluster/_kmeans.py:870: FutureWarning: The default value of `n_init` will change from 10 to 'auto' in 1.4. Set the value of `n_init` explicitly to suppress the warning\n",
            "  warnings.warn(\n",
            "/usr/local/lib/python3.10/dist-packages/sklearn/cluster/_kmeans.py:870: FutureWarning: The default value of `n_init` will change from 10 to 'auto' in 1.4. Set the value of `n_init` explicitly to suppress the warning\n",
            "  warnings.warn(\n",
            "/usr/local/lib/python3.10/dist-packages/sklearn/cluster/_kmeans.py:870: FutureWarning: The default value of `n_init` will change from 10 to 'auto' in 1.4. Set the value of `n_init` explicitly to suppress the warning\n",
            "  warnings.warn(\n",
            "/usr/local/lib/python3.10/dist-packages/sklearn/cluster/_kmeans.py:870: FutureWarning: The default value of `n_init` will change from 10 to 'auto' in 1.4. Set the value of `n_init` explicitly to suppress the warning\n",
            "  warnings.warn(\n",
            "/usr/local/lib/python3.10/dist-packages/sklearn/cluster/_kmeans.py:870: FutureWarning: The default value of `n_init` will change from 10 to 'auto' in 1.4. Set the value of `n_init` explicitly to suppress the warning\n",
            "  warnings.warn(\n",
            "/usr/local/lib/python3.10/dist-packages/sklearn/cluster/_kmeans.py:870: FutureWarning: The default value of `n_init` will change from 10 to 'auto' in 1.4. Set the value of `n_init` explicitly to suppress the warning\n",
            "  warnings.warn(\n",
            "/usr/local/lib/python3.10/dist-packages/sklearn/cluster/_kmeans.py:870: FutureWarning: The default value of `n_init` will change from 10 to 'auto' in 1.4. Set the value of `n_init` explicitly to suppress the warning\n",
            "  warnings.warn(\n",
            "/usr/local/lib/python3.10/dist-packages/sklearn/cluster/_kmeans.py:870: FutureWarning: The default value of `n_init` will change from 10 to 'auto' in 1.4. Set the value of `n_init` explicitly to suppress the warning\n",
            "  warnings.warn(\n",
            "/usr/local/lib/python3.10/dist-packages/sklearn/cluster/_kmeans.py:870: FutureWarning: The default value of `n_init` will change from 10 to 'auto' in 1.4. Set the value of `n_init` explicitly to suppress the warning\n",
            "  warnings.warn(\n"
          ]
        },
        {
          "output_type": "stream",
          "name": "stdout",
          "text": [
            " El puntaje\n",
            "[-1775915890929.1616, -212397020150.54425, -50600775963.77814, -18750008175.44384, -10139715858.171774, -3826192736.8578787, -2836294138.721899, -1900682380.571889, -1331083209.9624448, -820401989.5495949, -643775856.3669677, -570552812.6212038, -484466551.9055718, -404346986.327972, -327214124.0491444, -247466183.22521383, -180358054.8743922, -142215607.45331705, -119354881.49809806]\n"
          ]
        }
      ]
    },
    {
      "cell_type": "markdown",
      "source": [
        "En el siguiente gráfico se quiere mostrar por medio de la técnica del codo un acercamiento al k que posiblemente se va a elegir para obtener los centroides de los clusters. Dónde se puede observar cómo el codo resultante es igual o muy cercano al valor de 2 en el eje x."
      ],
      "metadata": {
        "id": "DsVAd6Q0RHyr"
      }
    },
    {
      "cell_type": "code",
      "source": [
        "plt.plot(Nc,score)"
      ],
      "metadata": {
        "colab": {
          "base_uri": "https://localhost:8080/",
          "height": 462
        },
        "id": "hm7KDyHTziiq",
        "outputId": "f6c94374-d288-4847-9965-1fec2d50ac73"
      },
      "execution_count": null,
      "outputs": [
        {
          "output_type": "execute_result",
          "data": {
            "text/plain": [
              "[<matplotlib.lines.Line2D at 0x7bb20a8b1e40>]"
            ]
          },
          "metadata": {},
          "execution_count": 7
        },
        {
          "output_type": "display_data",
          "data": {
            "text/plain": [
              "<Figure size 640x480 with 1 Axes>"
            ],
            "image/png": "[encoded data removed]"
          },
          "metadata": {}
        }
      ]
    },
    {
      "cell_type": "markdown",
      "source": [
        "Ajuste de hiperparámetros"
      ],
      "metadata": {
        "id": "P9r5Eofh1p4p"
      }
    },
    {
      "cell_type": "markdown",
      "source": [
        "En el siguiente código se realiza el cálculo para obtener el mejor parámetro, número de clusters, a utilizar para luego proceder a obtener los centroides con Kmeans utilizando dicho parámetro; en este caso el mejor N° de clusters a utilizar es de 2."
      ],
      "metadata": {
        "id": "XJgFWZUIQsGY"
      }
    },
    {
      "cell_type": "code",
      "source": [
        "#** se usa para aceptar varios parámetros en funciones\n",
        "def hallarMejorParametro (parameter_grid, model):\n",
        "  mejor_puntaje = -1\n",
        "  mejor_parametro = 0\n",
        "  for g in parameter_grid:\n",
        "    model.set_params(**g)\n",
        "    model.fit(df2)\n",
        "    # check how many unique labels do you have\n",
        "    res = np.unique(model.labels_)\n",
        "    #print (\"shape\")\n",
        "    #print (res.shape)\n",
        "    if res.shape[0]>1:\n",
        "      coeficiente_silueta = metrics.silhouette_score(df2, model.labels_)\n",
        "      print('parametro: ', g, 'puntaje: ', coeficiente_silueta)\n",
        "      if coeficiente_silueta >= mejor_puntaje:\n",
        "          mejor_puntaje = coeficiente_silueta\n",
        "          mejor_parametro = g\n",
        "\n",
        "\n",
        "  return mejor_parametro"
      ],
      "metadata": {
        "id": "Nm9eLMSa1sYM"
      },
      "execution_count": null,
      "outputs": []
    },
    {
      "cell_type": "code",
      "source": [
        "dataframe = df\n",
        "columnas_deseadas = ['edad', 'nivel_educativo', 'experiencia', 'ganancias', 'horas_semanales']\n",
        "df2 = dataframe[columnas_deseadas]\n",
        "\n",
        "Nc = range(2, 10)\n",
        "parametros = {'n_clusters': Nc}\n",
        "\n",
        "parameter_grid = ParameterGrid(parametros)\n",
        "\n",
        "list(parameter_grid)\n",
        "model = KMeans()\n",
        "mejor_p= hallarMejorParametro (parameter_grid, model)\n",
        "print (mejor_p)"
      ],
      "metadata": {
        "colab": {
          "base_uri": "https://localhost:8080/"
        },
        "id": "tw47Ngaz2BgZ",
        "outputId": "27fe4ddc-1cff-4dd9-d856-0225573b7d94"
      },
      "execution_count": null,
      "outputs": [
        {
          "output_type": "stream",
          "name": "stderr",
          "text": [
            "/usr/local/lib/python3.10/dist-packages/sklearn/cluster/_kmeans.py:870: FutureWarning: The default value of `n_init` will change from 10 to 'auto' in 1.4. Set the value of `n_init` explicitly to suppress the warning\n",
            "  warnings.warn(\n"
          ]
        },
        {
          "output_type": "stream",
          "name": "stdout",
          "text": [
            "parametro:  {'n_clusters': 2} puntaje:  0.9877943161158996\n"
          ]
        },
        {
          "output_type": "stream",
          "name": "stderr",
          "text": [
            "/usr/local/lib/python3.10/dist-packages/sklearn/cluster/_kmeans.py:870: FutureWarning: The default value of `n_init` will change from 10 to 'auto' in 1.4. Set the value of `n_init` explicitly to suppress the warning\n",
            "  warnings.warn(\n"
          ]
        },
        {
          "output_type": "stream",
          "name": "stdout",
          "text": [
            "parametro:  {'n_clusters': 3} puntaje:  0.951709488933217\n"
          ]
        },
        {
          "output_type": "stream",
          "name": "stderr",
          "text": [
            "/usr/local/lib/python3.10/dist-packages/sklearn/cluster/_kmeans.py:870: FutureWarning: The default value of `n_init` will change from 10 to 'auto' in 1.4. Set the value of `n_init` explicitly to suppress the warning\n",
            "  warnings.warn(\n"
          ]
        },
        {
          "output_type": "stream",
          "name": "stdout",
          "text": [
            "parametro:  {'n_clusters': 4} puntaje:  0.9574307420537522\n"
          ]
        },
        {
          "output_type": "stream",
          "name": "stderr",
          "text": [
            "/usr/local/lib/python3.10/dist-packages/sklearn/cluster/_kmeans.py:870: FutureWarning: The default value of `n_init` will change from 10 to 'auto' in 1.4. Set the value of `n_init` explicitly to suppress the warning\n",
            "  warnings.warn(\n"
          ]
        },
        {
          "output_type": "stream",
          "name": "stdout",
          "text": [
            "parametro:  {'n_clusters': 5} puntaje:  0.9596618375148007\n"
          ]
        },
        {
          "output_type": "stream",
          "name": "stderr",
          "text": [
            "/usr/local/lib/python3.10/dist-packages/sklearn/cluster/_kmeans.py:870: FutureWarning: The default value of `n_init` will change from 10 to 'auto' in 1.4. Set the value of `n_init` explicitly to suppress the warning\n",
            "  warnings.warn(\n"
          ]
        },
        {
          "output_type": "stream",
          "name": "stdout",
          "text": [
            "parametro:  {'n_clusters': 6} puntaje:  0.9690933729522463\n"
          ]
        },
        {
          "output_type": "stream",
          "name": "stderr",
          "text": [
            "/usr/local/lib/python3.10/dist-packages/sklearn/cluster/_kmeans.py:870: FutureWarning: The default value of `n_init` will change from 10 to 'auto' in 1.4. Set the value of `n_init` explicitly to suppress the warning\n",
            "  warnings.warn(\n"
          ]
        },
        {
          "output_type": "stream",
          "name": "stdout",
          "text": [
            "parametro:  {'n_clusters': 7} puntaje:  0.9699549667838677\n"
          ]
        },
        {
          "output_type": "stream",
          "name": "stderr",
          "text": [
            "/usr/local/lib/python3.10/dist-packages/sklearn/cluster/_kmeans.py:870: FutureWarning: The default value of `n_init` will change from 10 to 'auto' in 1.4. Set the value of `n_init` explicitly to suppress the warning\n",
            "  warnings.warn(\n"
          ]
        },
        {
          "output_type": "stream",
          "name": "stdout",
          "text": [
            "parametro:  {'n_clusters': 8} puntaje:  0.9687117515821262\n"
          ]
        },
        {
          "output_type": "stream",
          "name": "stderr",
          "text": [
            "/usr/local/lib/python3.10/dist-packages/sklearn/cluster/_kmeans.py:870: FutureWarning: The default value of `n_init` will change from 10 to 'auto' in 1.4. Set the value of `n_init` explicitly to suppress the warning\n",
            "  warnings.warn(\n"
          ]
        },
        {
          "output_type": "stream",
          "name": "stdout",
          "text": [
            "parametro:  {'n_clusters': 9} puntaje:  0.9704016391064616\n",
            "{'n_clusters': 2}\n"
          ]
        }
      ]
    },
    {
      "cell_type": "markdown",
      "source": [
        "Aplicar Kmeans"
      ],
      "metadata": {
        "id": "kHAJD1dG4_CR"
      }
    },
    {
      "cell_type": "markdown",
      "source": [
        "Se aplica Kmeans con N° de clusters = 2 y a continuación se obtienen los punos que representan los centroides."
      ],
      "metadata": {
        "id": "lt6UWZ1LQ7N5"
      }
    },
    {
      "cell_type": "code",
      "source": [
        "# Se prueba con 2  clusters\n",
        "kmeans = KMeans(n_clusters=2).fit(X)\n",
        "centroids = kmeans.cluster_centers_\n",
        "print('Centroides')\n",
        "print(centroids)"
      ],
      "metadata": {
        "id": "U9qzI5z85BS0",
        "colab": {
          "base_uri": "https://localhost:8080/"
        },
        "outputId": "74e83c91-dc71-49d7-ab1a-5f45425e697f"
      },
      "execution_count": null,
      "outputs": [
        {
          "output_type": "stream",
          "name": "stderr",
          "text": [
            "/usr/local/lib/python3.10/dist-packages/sklearn/cluster/_kmeans.py:870: FutureWarning: The default value of `n_init` will change from 10 to 'auto' in 1.4. Set the value of `n_init` explicitly to suppress the warning\n",
            "  warnings.warn(\n"
          ]
        },
        {
          "output_type": "stream",
          "name": "stdout",
          "text": [
            "Centroides\n",
            "[[3.82080048e+01 1.67822974e+00 1.00667551e+01 5.92231436e+02\n",
            "  4.03915190e+01]\n",
            " [4.59591175e+01 6.10062893e-01 1.29182390e+01 9.99990000e+04\n",
            "  4.97987421e+01]]\n"
          ]
        }
      ]
    },
    {
      "cell_type": "markdown",
      "source": [
        "Gráfico centroides"
      ],
      "metadata": {
        "id": "7VsdgU5d9z9P"
      }
    },
    {
      "cell_type": "markdown",
      "source": [
        "Del gráfico de líneas mostrado a continuación, que representa los dos centroides obtenidos para las 5 variables seleccionadas con kbest, y observando los valores exactos impresos debajo del gráfico se puede concluir lo siguiente:\n",
        "\n",
        "Cluster 1 (Centroide 0, color azul):\n",
        "Este clúster está caracterizado por individuos más jóvenes con una edad promedio de 38.21 años. A pesar de tener una menor experiencia y un nivel educativo moderado, muestran un equilibrio en las ganancias y las horas semanales de trabajo, con ingresos promedio de $592.23 y un promedio de 40.39 horas semanales de trabajo.\n",
        "\n",
        "Cluster 2 (Centroide 1, color naranja):\n",
        "En contraste, el segundo clúster se compone de individuos mayores con una edad promedio de 45.96 años. Estos individuos presentan una mayor experiencia, pero con un nivel educativo más bajo en comparación con el primer clúster. Sorprendentemente, este grupo muestra ganancias significativamente más altas, con un ingreso promedio de $99,999.00, y dedican más tiempo a trabajar con un promedio de 49.80 horas semanales.\n",
        "\n",
        "En resumen, el primer clúster representa a individuos más jóvenes con equilibrio en sus ingresos y horas de trabajo, mientras que el segundo clúster refleja a individuos mayores con mayores ingresos, probablemente debido a una mayor experiencia y dedicación laboral. Estas diferencias proporcionan percepciones valiosas para comprender la diversidad en la población estudiada."
      ],
      "metadata": {
        "id": "fWqNahr3Lkog"
      }
    },
    {
      "cell_type": "code",
      "source": [
        "#convierte centroides en un dataframe\n",
        "centroides_df = pd.DataFrame(centroids, columns=['edad', 'nivel_educativo', 'experiencia', 'ganancias', 'horas_semanales'])\n",
        "\n",
        "#crear gráfico de líneas\n",
        "plt.figure(figsize=(10, 6))\n",
        "\n",
        "for i in range(len(centroides_df)):\n",
        "    plt.plot(centroides_df.columns, centroides_df.iloc[i], marker='o', label=f'Centroide {i}')\n",
        "\n",
        "plt.title('Centroides - Gráfico de Líneas')\n",
        "plt.xlabel('Características')\n",
        "plt.ylabel('Valor')\n",
        "plt.legend()\n",
        "plt.show()\n"
      ],
      "metadata": {
        "id": "kw2BHdUk91zV",
        "colab": {
          "base_uri": "https://localhost:8080/",
          "height": 564
        },
        "outputId": "a1b56133-2444-4ebd-b2c1-e869fe265740"
      },
      "execution_count": null,
      "outputs": [
        {
          "output_type": "display_data",
          "data": {
            "text/plain": [
              "<Figure size 1000x600 with 1 Axes>"
            ],
            "image/png": "[encoded data removed]"
          },
          "metadata": {}
        }
      ]
    },
    {
      "cell_type": "code",
      "source": [
        "print(centroides_df)\n"
      ],
      "metadata": {
        "id": "jCZb5RrVIvkz",
        "colab": {
          "base_uri": "https://localhost:8080/"
        },
        "outputId": "55accb45-4dd0-4c24-ba44-cf9e2319437d"
      },
      "execution_count": null,
      "outputs": [
        {
          "output_type": "stream",
          "name": "stdout",
          "text": [
            "        edad  nivel_educativo  experiencia     ganancias  horas_semanales\n",
            "0  38.208005         1.678230    10.066755    592.231436        40.391519\n",
            "1  45.959117         0.610063    12.918239  99999.000000        49.798742\n"
          ]
        }
      ]
    }
  ]
}